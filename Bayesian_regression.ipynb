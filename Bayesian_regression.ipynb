{
 "cells": [
  {
   "cell_type": "markdown",
   "metadata": {
    "colab_type": "text",
    "id": "view-in-github"
   },
   "source": [
    "<a href=\"https://colab.research.google.com/github/pbazard/ml-tutorial/blob/master/Bayesian_regression.ipynb\" target=\"_parent\"><img src=\"https://colab.research.google.com/assets/colab-badge.svg\" alt=\"Open In Colab\"/></a>"
   ]
  },
  {
   "cell_type": "code",
   "execution_count": 4,
   "metadata": {
    "execution": {
     "iopub.execute_input": "2025-07-16T13:55:30.400627Z",
     "iopub.status.busy": "2025-07-16T13:55:30.399832Z",
     "iopub.status.idle": "2025-07-16T13:55:32.098095Z",
     "shell.execute_reply": "2025-07-16T13:55:32.097261Z",
     "shell.execute_reply.started": "2025-07-16T13:55:30.400585Z"
    }
   },
   "outputs": [
    {
     "name": "stdout",
     "output_type": "stream",
     "text": [
      "Requirement already satisfied: kagglehub in /opt/conda/lib/python3.12/site-packages (0.3.12)\n",
      "Requirement already satisfied: packaging in /opt/conda/lib/python3.12/site-packages (from kagglehub) (24.2)\n",
      "Requirement already satisfied: pyyaml in /opt/conda/lib/python3.12/site-packages (from kagglehub) (6.0.2)\n",
      "Requirement already satisfied: requests in /opt/conda/lib/python3.12/site-packages (from kagglehub) (2.32.4)\n",
      "Requirement already satisfied: tqdm in /opt/conda/lib/python3.12/site-packages (from kagglehub) (4.67.1)\n",
      "Requirement already satisfied: charset_normalizer<4,>=2 in /opt/conda/lib/python3.12/site-packages (from requests->kagglehub) (3.4.2)\n",
      "Requirement already satisfied: idna<4,>=2.5 in /opt/conda/lib/python3.12/site-packages (from requests->kagglehub) (3.10)\n",
      "Requirement already satisfied: urllib3<3,>=1.21.1 in /opt/conda/lib/python3.12/site-packages (from requests->kagglehub) (1.26.19)\n",
      "Requirement already satisfied: certifi>=2017.4.17 in /opt/conda/lib/python3.12/site-packages (from requests->kagglehub) (2025.6.15)\n"
     ]
    }
   ],
   "source": [
    "!pip install kagglehub"
   ]
  },
  {
   "cell_type": "markdown",
   "metadata": {
    "id": "B8rpQLlo5tAg"
   },
   "source": [
    "# Data manipulation and visualization"
   ]
  },
  {
   "cell_type": "code",
   "execution_count": 8,
   "metadata": {
    "execution": {
     "iopub.execute_input": "2025-07-16T14:00:23.805099Z",
     "iopub.status.busy": "2025-07-16T14:00:23.804571Z",
     "iopub.status.idle": "2025-07-16T14:00:24.319051Z",
     "shell.execute_reply": "2025-07-16T14:00:24.317981Z",
     "shell.execute_reply.started": "2025-07-16T14:00:23.805058Z"
    },
    "id": "Wj0fsEPPzIjP"
   },
   "outputs": [
    {
     "name": "stdout",
     "output_type": "stream",
     "text": [
      "ModuleNotFoundError: No module named 'kagglehub'\n"
     ]
    }
   ],
   "source": [
    "#import pandas as pd\n",
    "#import numpy as np\n",
    "#import matplotlib.pyplot as plt\n",
    "#import seaborn as sns\n",
    "import kagglehub"
   ]
  },
  {
   "cell_type": "markdown",
   "metadata": {
    "id": "eb3rwGMF53-W"
   },
   "source": [
    "# Machine Learning libraries"
   ]
  },
  {
   "cell_type": "code",
   "execution_count": null,
   "metadata": {
    "execution": {
     "iopub.status.busy": "2025-07-16T13:52:22.079542Z",
     "iopub.status.idle": "2025-07-16T13:52:22.079801Z",
     "shell.execute_reply": "2025-07-16T13:52:22.079683Z",
     "shell.execute_reply.started": "2025-07-16T13:52:22.079673Z"
    },
    "id": "5s6t0E9k52rB"
   },
   "outputs": [],
   "source": [
    "#from sklearn.linear_model import BayesianRidge # Bayesian Regression\n",
    "#from sklearn.model_selection import train_test_split, GridSearchCV # Data split\n",
    "#from sklearn.preprocessing import StandardScaler # Feature scaling\n",
    "#from sklearn.metrics import mean_squared_error, r2_score # Evaluation metrics"
   ]
  },
  {
   "cell_type": "markdown",
   "metadata": {
    "id": "sdcrYOHB50tN"
   },
   "source": [
    "# Other imports and settings"
   ]
  },
  {
   "cell_type": "code",
   "execution_count": null,
   "metadata": {
    "execution": {
     "iopub.status.busy": "2025-07-16T13:52:22.082429Z",
     "iopub.status.idle": "2025-07-16T13:52:22.083066Z",
     "shell.execute_reply": "2025-07-16T13:52:22.082861Z",
     "shell.execute_reply.started": "2025-07-16T13:52:22.082842Z"
    },
    "id": "rPRp0yyh6GxY"
   },
   "outputs": [],
   "source": [
    "import warnings\n",
    "warnings.filterwarnings('ignore')"
   ]
  },
  {
   "cell_type": "markdown",
   "metadata": {
    "id": "b7zZ8-Mh6MjS"
   },
   "source": [
    "# Load data"
   ]
  },
  {
   "cell_type": "code",
   "execution_count": 3,
   "metadata": {
    "execution": {
     "iopub.execute_input": "2025-07-16T13:53:53.195775Z",
     "iopub.status.busy": "2025-07-16T13:53:53.195488Z",
     "iopub.status.idle": "2025-07-16T13:53:53.550870Z",
     "shell.execute_reply": "2025-07-16T13:53:53.549928Z",
     "shell.execute_reply.started": "2025-07-16T13:53:53.195750Z"
    }
   },
   "outputs": [
    {
     "name": "stdout",
     "output_type": "stream",
     "text": [
      "NameError: name 'kagglehub' is not defined\n"
     ]
    }
   ],
   "source": [
    "path = kagglehub.dataset_download(\"shashanknecrothapa/ames-housing-dataset\")\n",
    "print(\"Path to dataset files:\", path)"
   ]
  },
  {
   "cell_type": "code",
   "execution_count": null,
   "metadata": {},
   "outputs": [],
   "source": []
  }
 ],
 "metadata": {
  "colab": {
   "authorship_tag": "ABX9TyPniKMoKTv+HhYi1nXUhTsQ",
   "include_colab_link": true,
   "provenance": []
  },
  "kernelspec": {
   "display_name": "Glue PySpark",
   "language": "python",
   "name": "glue_pyspark"
  },
  "language_info": {
   "codemirror_mode": {
    "name": "python",
    "version": 3
   },
   "file_extension": ".py",
   "mimetype": "text/x-python",
   "name": "Python_Glue_Session",
   "pygments_lexer": "python3"
  }
 },
 "nbformat": 4,
 "nbformat_minor": 4
}
