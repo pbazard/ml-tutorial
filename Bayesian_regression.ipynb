{
  "nbformat": 4,
  "nbformat_minor": 0,
  "metadata": {
    "colab": {
      "provenance": [],
      "authorship_tag": "ABX9TyPniKMoKTv+HhYi1nXUhTsQ",
      "include_colab_link": true
    },
    "kernelspec": {
      "name": "python3",
      "display_name": "Python 3"
    },
    "language_info": {
      "name": "python"
    }
  },
  "cells": [
    {
      "cell_type": "markdown",
      "metadata": {
        "id": "view-in-github",
        "colab_type": "text"
      },
      "source": [
        "<a href=\"https://colab.research.google.com/github/pbazard/ml-tutorial/blob/master/Bayesian_regression.ipynb\" target=\"_parent\"><img src=\"https://colab.research.google.com/assets/colab-badge.svg\" alt=\"Open In Colab\"/></a>"
      ]
    },
    {
      "cell_type": "markdown",
      "source": [
        "# Data manipulation and visualization"
      ],
      "metadata": {
        "id": "B8rpQLlo5tAg"
      }
    },
    {
      "cell_type": "code",
      "execution_count": null,
      "metadata": {
        "id": "Wj0fsEPPzIjP"
      },
      "outputs": [],
      "source": [
        "import pandas as pd\n",
        "import numpy as np\n",
        "import matplotlib.pyplot as plt\n",
        "import seaborn as sns\n",
        "import warnings"
      ]
    },
    {
      "cell_type": "markdown",
      "source": [
        "# Machine Learning libraries"
      ],
      "metadata": {
        "id": "eb3rwGMF53-W"
      }
    },
    {
      "cell_type": "code",
      "source": [
        "from sklearn.linear_model import BayesianRidge # Bayesian Regression\n",
        "from sklearn.model_selection import train_test_split, GridSearchCV # Data split\n",
        "from sklearn.preprocessing import StandardScaler # Feature scaling\n",
        "from sklearn.metrics import mean_squared_error, r2_score # Evaluation metrics"
      ],
      "metadata": {
        "id": "5s6t0E9k52rB"
      },
      "execution_count": null,
      "outputs": []
    },
    {
      "cell_type": "markdown",
      "source": [
        "# Other imports and settings"
      ],
      "metadata": {
        "id": "sdcrYOHB50tN"
      }
    },
    {
      "cell_type": "code",
      "source": [
        "warnings.filterwarnings('ignore')"
      ],
      "metadata": {
        "id": "rPRp0yyh6GxY"
      },
      "execution_count": null,
      "outputs": []
    },
    {
      "cell_type": "markdown",
      "source": [
        "# Load data"
      ],
      "metadata": {
        "id": "b7zZ8-Mh6MjS"
      }
    }
  ]
}